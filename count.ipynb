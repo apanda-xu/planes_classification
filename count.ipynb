{
 "cells": [
  {
   "cell_type": "code",
   "execution_count": 8,
   "metadata": {},
   "outputs": [
    {
     "name": "stdout",
     "output_type": "stream",
     "text": [
      "---------- origin ----------\n",
      "drone: 1332\n",
      "fighter-jet: 1867\n",
      "helicopter: 1387\n",
      "missile: 1334\n",
      "passenger-plane: 1424\n",
      "rocket: 1186\n",
      "all cates: 8530\n",
      "\n",
      "---------- train ----------\n",
      "drone: 932\n",
      "fighter-jet: 1306\n",
      "helicopter: 970\n",
      "missile: 933\n",
      "passenger-plane: 996\n",
      "rocket: 830\n",
      "all cates: 5967\n",
      "\n",
      "---------- test ----------\n",
      "drone: 400\n",
      "fighter-jet: 561\n",
      "helicopter: 417\n",
      "missile: 401\n",
      "passenger-plane: 428\n",
      "rocket: 356\n",
      "all cates: 2563\n",
      "\n"
     ]
    }
   ],
   "source": [
    "import os \n",
    "\n",
    "root = 'data/planes'\n",
    "cates = ['drone', 'fighter-jet', 'helicopter', 'missile', 'passenger-plane', 'rocket']\n",
    "\n",
    "print('---------- origin ----------')\n",
    "nums = 0\n",
    "for cate in cates:\n",
    "    cate_path = os.path.join(root, cate)\n",
    "    files = os.listdir(cate_path)\n",
    "    nums += len(files)\n",
    "    print('{}: {}'.format(cate, len(files)))\n",
    "print('all cates: {}\\n'.format(nums))\n",
    "\n",
    "print('---------- train ----------')\n",
    "n = {}\n",
    "nums = 0\n",
    "for cate in cates:\n",
    "    n[cate] = 0\n",
    "with open(os.path.join(root, 'train.txt'), 'r') as f:\n",
    "    lines = f.readlines()\n",
    "for line in lines:\n",
    "    name = line.split('/')[2]\n",
    "    n[name] += 1\n",
    "for cate in n.keys():\n",
    "    nums += n[cate]\n",
    "    print('{}: {}'.format(cate, n[cate]))\n",
    "print('all cates: {}\\n'.format(nums))\n",
    "\n",
    "\n",
    "print('---------- test ----------')\n",
    "n = {}\n",
    "nums = 0\n",
    "for cate in cates:\n",
    "    n[cate] = 0\n",
    "with open(os.path.join(root, 'test.txt'), 'r') as f:\n",
    "    lines = f.readlines()\n",
    "for line in lines:\n",
    "    name = line.split('/')[2]\n",
    "    n[name] += 1\n",
    "for cate in n.keys():\n",
    "    nums += n[cate]\n",
    "    print('{}: {}'.format(cate, n[cate]))\n",
    "print('all cates: {}\\n'.format(nums))\n",
    "\n",
    "\n",
    "\n"
   ]
  }
 ],
 "metadata": {
  "interpreter": {
   "hash": "86adc7ce8cd884cd8620b52dd7375abc5e8388898130a67ec4071451c344f57c"
  },
  "kernelspec": {
   "display_name": "Python 3.7.11 ('p2p')",
   "language": "python",
   "name": "python3"
  },
  "language_info": {
   "codemirror_mode": {
    "name": "ipython",
    "version": 3
   },
   "file_extension": ".py",
   "mimetype": "text/x-python",
   "name": "python",
   "nbconvert_exporter": "python",
   "pygments_lexer": "ipython3",
   "version": "3.7.11"
  },
  "orig_nbformat": 4
 },
 "nbformat": 4,
 "nbformat_minor": 2
}
