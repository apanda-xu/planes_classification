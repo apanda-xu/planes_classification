{
 "cells": [
  {
   "cell_type": "code",
   "execution_count": 4,
   "metadata": {},
   "outputs": [
    {
     "name": "stderr",
     "output_type": "stream",
     "text": [
      "100%|██████████| 6/6 [00:00<00:00, 194.05it/s]\n"
     ]
    }
   ],
   "source": [
    "import os\n",
    "import random\n",
    "from tqdm import tqdm\n",
    "random.seed(777)\n",
    "\n",
    "# set params\n",
    "split_rate = 0.7\n",
    "data_root = 'data/planes'\n",
    "categories = ['drone', 'fighter-jet', 'helicopter', 'missile', 'passenger-plane', 'rocket']\n",
    "\n",
    "# split\n",
    "for i, cat in enumerate(tqdm(categories)):\n",
    "    im_dir = os.path.join(data_root, cat)\n",
    "    im_files = sorted(os.listdir(im_dir))\n",
    "    random.shuffle(im_files)\n",
    "    train_num = int(split_rate*len(im_files))\n",
    "    train_files = im_files[:train_num] \n",
    "    test_files = im_files[train_num:]\n",
    "\n",
    "    with open('train.txt', 'a+') as f:\n",
    "        for file in train_files:\n",
    "            im_path = os.path.join(im_dir, file)\n",
    "            f.write('{} {}\\n'.format(im_path, i))\n",
    "\n",
    "    with open('test.txt', 'a+') as f:\n",
    "        for file in test_files:\n",
    "            im_path = os.path.join(im_dir, file)\n",
    "            f.write('{} {}\\n'.format(im_path, i))"
   ]
  }
 ],
 "metadata": {
  "interpreter": {
   "hash": "b5a953dfac15cc6efa85349370252b14782e836c3555db24959cea1c10f671ef"
  },
  "kernelspec": {
   "display_name": "Python 3.8.12 ('pacnet')",
   "language": "python",
   "name": "python3"
  },
  "language_info": {
   "codemirror_mode": {
    "name": "ipython",
    "version": 3
   },
   "file_extension": ".py",
   "mimetype": "text/x-python",
   "name": "python",
   "nbconvert_exporter": "python",
   "pygments_lexer": "ipython3",
   "version": "3.8.12"
  },
  "orig_nbformat": 4
 },
 "nbformat": 4,
 "nbformat_minor": 2
}
