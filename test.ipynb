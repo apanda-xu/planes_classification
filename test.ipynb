{
 "cells": [
  {
   "cell_type": "code",
   "execution_count": null,
   "metadata": {},
   "outputs": [],
   "source": [
    "import torch\n",
    "import torch.nn as nn\n",
    "from datasets.plane import Plane\n",
    "from torch.utils.data import DataLoader\n",
    "import random\n",
    "import numpy as np\n",
    "from sklearn.metrics import classification_report, accuracy_score\n",
    "import warnings\n",
    "warnings.filterwarnings('ignore')"
   ]
  },
  {
   "cell_type": "code",
   "execution_count": null,
   "metadata": {},
   "outputs": [],
   "source": [
    "# set random seed\n",
    "seed = 777\n",
    "torch.manual_seed(seed)\n",
    "torch.cuda.manual_seed(seed)\n",
    "np.random.seed(seed)\n",
    "random.seed(seed)\n",
    "# test_loader\n",
    "print('loading test set ...')\n",
    "test_set = Plane(train=False)\n",
    "test_load = DataLoader(dataset=test_set, batch_size=2, num_workers=4, shuffle=True)"
   ]
  },
  {
   "cell_type": "code",
   "execution_count": null,
   "metadata": {},
   "outputs": [],
   "source": [
    "import os \n",
    "os.environ['CUDA_VISIBLE_DEVICES'] = '1'\n",
    "# set params; net: vgg, densenet        \n",
    "model = 'vgg16' \n",
    "# select and load an model\n",
    "if model == 'vgg19':\n",
    "    from models.vgg19 import Net \n",
    "elif model == 'vgg16':\n",
    "    from models.vgg16 import Net \n",
    "elif model == 'vgg13':\n",
    "    from models.vgg13 import Net \n",
    "elif model == 'densenet':\n",
    "    from models.densenet import Net\n",
    "else:\n",
    "    print('model: {} is not support!'.format(model))\n",
    "net = Net()\n",
    "net = nn.DataParallel(net, device_ids=[0])\n",
    "net.load_state_dict(torch.load('outputs/best_{}_freeze.pth'.format(model))) \n",
    "net.cuda()\n",
    "net.eval()\n"
   ]
  },
  {
   "cell_type": "code",
   "execution_count": null,
   "metadata": {},
   "outputs": [],
   "source": [
    "# evaluation\n",
    "def evaluate(net):\n",
    "    net.eval()\n",
    "    y_label = []\n",
    "    y_preds = []\n",
    "    with torch.no_grad():\n",
    "        for sample in test_load:\n",
    "            im, gt = sample\n",
    "            im, gt = im.cuda(), gt.cuda()\n",
    "            output = net(im)\n",
    "            _, preds = torch.max(output, dim=1)\n",
    "            y_preds.append(preds)\n",
    "            y_label.append(gt)\n",
    "    y_label = torch.cat(y_label, dim=0).detach().cpu().numpy()\n",
    "    y_preds = torch.cat(y_preds, dim=0).detach().cpu().numpy()\n",
    "    print(classification_report(y_label, y_preds))\n",
    "    acc = accuracy_score(y_label, y_preds)\n",
    "    print('Acc: {}'.format(acc))\n",
    "evaluate(net)"
   ]
  }
 ],
 "metadata": {
  "interpreter": {
   "hash": "b5a953dfac15cc6efa85349370252b14782e836c3555db24959cea1c10f671ef"
  },
  "kernelspec": {
   "display_name": "Python 3.8.12 ('pacnet')",
   "language": "python",
   "name": "python3"
  },
  "language_info": {
   "codemirror_mode": {
    "name": "ipython",
    "version": 3
   },
   "file_extension": ".py",
   "mimetype": "text/x-python",
   "name": "python",
   "nbconvert_exporter": "python",
   "pygments_lexer": "ipython3",
   "version": "3.8.12"
  },
  "orig_nbformat": 4
 },
 "nbformat": 4,
 "nbformat_minor": 2
}
