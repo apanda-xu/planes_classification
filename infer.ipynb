{
 "cells": [
  {
   "cell_type": "code",
   "execution_count": null,
   "metadata": {},
   "outputs": [],
   "source": [
    "import torch.nn as nn\n",
    "import random\n",
    "import torch\n",
    "import numpy as np\n",
    "import cv2\n",
    "import torchvision.transforms as T\n",
    "from PIL import Image\n",
    "from tqdm import tqdm\n",
    "import warnings\n",
    "warnings.filterwarnings('ignore')\n",
    "import matplotlib.pyplot as plt\n",
    "import math\n",
    "import os "
   ]
  },
  {
   "cell_type": "markdown",
   "metadata": {},
   "source": [
    "#### load net"
   ]
  },
  {
   "cell_type": "code",
   "execution_count": null,
   "metadata": {},
   "outputs": [],
   "source": [
    "# # set device\n",
    "# os.environ['CUDA_VISIBLE_DEVICES'] = '3'\n",
    "# # set random seed\n",
    "# seed = 777\n",
    "# torch.manual_seed(seed)\n",
    "# torch.cuda.manual_seed(seed)\n",
    "# np.random.seed(seed)\n",
    "# random.seed(seed)\n",
    "# # set params; net: vgg, densenet        \n",
    "# model = 'densenet' \n",
    "# # select and load an model\n",
    "# if model == 'vgg19':\n",
    "#     from models.vgg19 import Net \n",
    "# elif model == 'vgg16':\n",
    "#     from models.vgg16 import Net \n",
    "# elif model == 'vgg16':\n",
    "#     from models.vgg13 import Net \n",
    "# elif model == 'densenet':\n",
    "#     from models.densenet import Net\n",
    "# else:\n",
    "#     print('model: {} is not support!'.format(model))\n",
    "# net = Net()\n",
    "# net = nn.DataParallel(net, device_ids=[0])\n",
    "# net.load_state_dict(torch.load('outputs/best_{}_freeze.pth'.format(model))) \n",
    "# net.cuda()\n",
    "# net.eval()\n",
    "# # transform\n",
    "# transform = T.Compose([\n",
    "#     T.ToTensor(),\n",
    "#     T.Normalize(mean=[0.485, 0.456, 0.406], std=[0.229, 0.224, 0.225]),\n",
    "#     T.Resize([600,600]),\n",
    "# ])"
   ]
  },
  {
   "cell_type": "code",
   "execution_count": null,
   "metadata": {},
   "outputs": [],
   "source": [
    "# find name by idx\n",
    "def findbyidx(idx):\n",
    "    name = None\n",
    "    if idx == 0:\n",
    "        name = 'drone'\n",
    "    elif idx == 1:\n",
    "        name = 'fighter-jet'\n",
    "    elif idx == 2:\n",
    "        name = 'helicopter'\n",
    "    elif idx == 3:\n",
    "        name = 'missile'\n",
    "    elif idx == 4:\n",
    "        name = 'passenger-plane' \n",
    "    else:\n",
    "        name = 'rocket'\n",
    "    return name"
   ]
  },
  {
   "cell_type": "markdown",
   "metadata": {},
   "source": [
    "#### test image"
   ]
  },
  {
   "cell_type": "code",
   "execution_count": null,
   "metadata": {},
   "outputs": [],
   "source": [
    "# # test image\n",
    "# with open('data/planes/test.txt', 'r') as f:\n",
    "#     lines = f.readlines()\n",
    "# if not os.path.exists('errors'):\n",
    "#     os.makedirs('errors')\n",
    "# with open('errors/errors.txt', 'a+') as f:\n",
    "#     for line in tqdm(lines):\n",
    "#         im_path, gt = line.split(' ')\n",
    "#         gt = int(gt)\n",
    "#         im = cv2.imread(im_path)\n",
    "#         if im is None:\n",
    "#             im = np.asarray(Image.open(im_path).convert('RGB'))\n",
    "#         im = transform(im).unsqueeze(0).cuda()\n",
    "#         output = net(im)\n",
    "#         _, idx = torch.max(output, dim=1)\n",
    "#         idx = idx.item()\n",
    "#         if idx != gt:\n",
    "#             f.write('{} {} {}\\n'.format(im_path, gt, idx))\n"
   ]
  },
  {
   "cell_type": "markdown",
   "metadata": {},
   "source": [
    "#### visualization"
   ]
  },
  {
   "cell_type": "code",
   "execution_count": null,
   "metadata": {},
   "outputs": [],
   "source": [
    "# # all to one\n",
    "# with open('errors/errors.txt', 'r') as f:\n",
    "#     lines = f.readlines()[:20]\n",
    "# a = int(math.sqrt(len(lines)))+1\n",
    "# n = 0\n",
    "# fig, ax = plt.subplots(a,a, figsize=(4*a,4*a))\n",
    "# for line in tqdm(lines):\n",
    "#     im_path, gt, pred = line.split(' ')\n",
    "#     gt, pred = int(gt), int(pred)\n",
    "#     im = cv2.imread(im_path)\n",
    "#     if im is None:\n",
    "#         im = np.asarray(Image.open(im_path).convert('RGB'))\n",
    "#     im = cv2.resize(im, (800,600))\n",
    "#     row, col = int(n // a), int(n % a)\n",
    "#     ax[row,col].imshow(im)\n",
    "#     ax[row,col].set_title('GT: {}   Pred: {}\\n{}'.format\\\n",
    "#         (findbyidx(gt), findbyidx(pred), im_path.replace('data/plane/', '')), color='red', fontsize=15)\n",
    "#     ax[row,col].axis('off')\n",
    "#     n += 1\n",
    "# fig.tight_layout()\n",
    "# if not os.path.exists('errors'):\n",
    "#     os.makedirs('errors')\n",
    "# plt.savefig('errors/demo.svg',format='svg')\n"
   ]
  },
  {
   "cell_type": "code",
   "execution_count": null,
   "metadata": {},
   "outputs": [],
   "source": [
    "# devide by error preds\n",
    "categories = ['drone', 'fighter-jet', 'helicopter', 'missile', 'passenger-plane', 'rocket']\n",
    "n = {}\n",
    "for category in categories:\n",
    "    n[category] = 1\n",
    "    categoty_dir = os.path.join('errors', category)\n",
    "    if not os.path.exists(categoty_dir):\n",
    "        os.makedirs(categoty_dir)\n",
    "with open('errors/errors.txt', 'r') as f:\n",
    "    lines = f.readlines()\n",
    "for line in tqdm(lines):\n",
    "    im_path, gt, pred = line.split(' ')\n",
    "    gt_name = findbyidx(int(gt))\n",
    "    pred_name = findbyidx(int(pred))\n",
    "    im = cv2.imread(im_path)\n",
    "    if im is None:\n",
    "        im = np.asarray(Image.open(im_path).convert('RGB'))\n",
    "    else:\n",
    "        im = cv2.cvtColor(im, cv2.COLOR_BGR2RGB)\n",
    "    im = cv2.resize(im, (800,600))\n",
    "    plt.figure(figsize=(6,6))\n",
    "    plt.imshow(im)\n",
    "    plt.title('GT: {}   Pred: {}\\n{}'.format\\\n",
    "        (gt_name, pred_name, im_path.replace('data/plane/', '')), color='red', fontsize=15)\n",
    "    plt.axis('off')\n",
    "    plt.savefig('errors/{}/{}.png'.format(gt_name, n[gt_name]),format='png')\n",
    "    n[gt_name] += 1"
   ]
  },
  {
   "cell_type": "markdown",
   "metadata": {},
   "source": [
    "#### outside image"
   ]
  },
  {
   "cell_type": "code",
   "execution_count": null,
   "metadata": {},
   "outputs": [],
   "source": [
    "# # outside image\n",
    "# for i in range(1, 13):\n",
    "#     im_path = 'demo/{}.jpg'.format(i)\n",
    "#     im = cv2.imread(im_path)\n",
    "#     if im is None:\n",
    "#         im = np.asarray(Image.open(im_path).convert('RGB'))\n",
    "#     im = transform(im).unsqueeze(0).cuda()\n",
    "#     output = net(im)\n",
    "#     _, idx = torch.max(output, dim=1)\n",
    "#     name = findbyidx(idx.item())\n",
    "#     print(name)\n"
   ]
  }
 ],
 "metadata": {
  "interpreter": {
   "hash": "b5a953dfac15cc6efa85349370252b14782e836c3555db24959cea1c10f671ef"
  },
  "kernelspec": {
   "display_name": "Python 3.8.12 ('pacnet')",
   "language": "python",
   "name": "python3"
  },
  "language_info": {
   "codemirror_mode": {
    "name": "ipython",
    "version": 3
   },
   "file_extension": ".py",
   "mimetype": "text/x-python",
   "name": "python",
   "nbconvert_exporter": "python",
   "pygments_lexer": "ipython3",
   "version": "3.8.12"
  },
  "orig_nbformat": 4
 },
 "nbformat": 4,
 "nbformat_minor": 2
}
