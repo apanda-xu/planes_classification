{
 "cells": [
  {
   "cell_type": "code",
   "execution_count": null,
   "metadata": {},
   "outputs": [],
   "source": [
    "import json\n",
    "import matplotlib.pyplot as plt\n",
    "import os\n",
    "import numpy as np"
   ]
  },
  {
   "cell_type": "markdown",
   "metadata": {},
   "source": [
    "#### VGGNet"
   ]
  },
  {
   "cell_type": "code",
   "execution_count": null,
   "metadata": {},
   "outputs": [],
   "source": [
    "# VGGNet\n",
    "nets = ['vgg13', 'vgg16', 'vgg19']\n",
    "metrics = ['accuracy']\n",
    "\n",
    "plt.figure(figsize=(15,8))\n",
    "for net in nets:\n",
    "    plt.title('vggnet')\n",
    "    plt.xlabel('Iters')\n",
    "    plt.ylabel('Acc')\n",
    "    for metric in metrics:\n",
    "        json_file = 'jsons/{}_{}.json'.format(net, metric)\n",
    "        with open(json_file, 'r') as f:\n",
    "            data = json.load(f)\n",
    "        data = np.asanyarray(data)[:, 1:3]\n",
    "        plt.plot(data[:,0], data[:,1], label=net)\n",
    "        plt.legend()\n",
    "    plt.savefig('jsons/{}_{}.png'.format('vggnet', 'acc'))\n",
    "\n",
    "\n",
    "plt.figure(figsize=(15,8))\n",
    "for net in nets:\n",
    "    plt.title('vggnet')\n",
    "    plt.xlabel('Iters')\n",
    "    plt.ylabel('Loss')\n",
    "    json_file = 'jsons/{}_{}.json'.format(net, 'loss')\n",
    "    with open(json_file, 'r') as f:\n",
    "        data = json.load(f)\n",
    "    data = np.asanyarray(data)[:, 1:3]\n",
    "    plt.plot(data[:,0], data[:,1], label=net)\n",
    "    plt.legend()\n",
    "    plt.savefig('jsons/{}_{}.png'.format('vggnet', 'loss'))"
   ]
  },
  {
   "cell_type": "markdown",
   "metadata": {},
   "source": [
    "#### DenseNet"
   ]
  },
  {
   "cell_type": "code",
   "execution_count": null,
   "metadata": {},
   "outputs": [],
   "source": [
    "# # DenseNet\n",
    "# nets = ['densenet']\n",
    "# metrics = ['accuracy']\n",
    "\n",
    "# for net in nets:\n",
    "#     plt.figure(figsize=(15,8))\n",
    "#     plt.title(net)\n",
    "#     plt.xlabel('Iters')\n",
    "#     plt.ylabel('Acc')\n",
    "#     for metric in metrics:\n",
    "#         json_file = 'jsons/{}_{}.json'.format(net, metric)\n",
    "#         with open(json_file, 'r') as f:\n",
    "#             data = json.load(f)\n",
    "#         data = np.asanyarray(data)[:, 1:3]\n",
    "#         plt.plot(data[:,0], data[:,1], label='acc')\n",
    "#         plt.legend()\n",
    "#     plt.savefig('jsons/{}_{}.png'.format(net, 'acc'))\n",
    "\n",
    "# for net in nets:\n",
    "#     plt.figure(figsize=(15,8))\n",
    "#     plt.title(net)\n",
    "#     plt.xlabel('Iters')\n",
    "#     plt.ylabel('Loss')\n",
    "#     json_file = 'jsons/{}_{}.json'.format(net, 'loss')\n",
    "#     with open(json_file, 'r') as f:\n",
    "#         data = json.load(f)\n",
    "#     data = np.asanyarray(data)[:, 1:3]\n",
    "#     plt.plot(data[:,0], data[:,1], label='loss')\n",
    "#     plt.legend()\n",
    "#     plt.savefig('jsons/{}_{}.png'.format(net, 'loss'))\n"
   ]
  }
 ],
 "metadata": {
  "interpreter": {
   "hash": "b5a953dfac15cc6efa85349370252b14782e836c3555db24959cea1c10f671ef"
  },
  "kernelspec": {
   "display_name": "Python 3.8.12 ('pacnet')",
   "language": "python",
   "name": "python3"
  },
  "language_info": {
   "codemirror_mode": {
    "name": "ipython",
    "version": 3
   },
   "file_extension": ".py",
   "mimetype": "text/x-python",
   "name": "python",
   "nbconvert_exporter": "python",
   "pygments_lexer": "ipython3",
   "version": "3.8.12"
  },
  "orig_nbformat": 4
 },
 "nbformat": 4,
 "nbformat_minor": 2
}
